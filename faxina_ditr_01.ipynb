{
 "cells": [
  {
   "cell_type": "code",
   "execution_count": 25,
   "metadata": {},
   "outputs": [],
   "source": [
    "##\n",
    "#   Padroniza o formato dos valores do CAFIR\n",
    "##\n",
    "import numpy as np\n",
    "import pandas as pd\n",
    "import os\n",
    "\n",
    "arquivo = 'D:\\\\TEMP\\\\cnir\\\\DITR2020.csv'\n",
    "ditr2020 = pd.read_csv(arquivo, dtype={\n",
    "                     'ditr2020.nirf': str,\n",
    "                     'ditr2020.codigoincra': str,\n",
    "                     'ditr2020.ni': str,\n",
    "                     'ditr2020.municipio': str,\n",
    "                     'ditr2020.areatotal': float\n",
    "                 })\n",
    "\n",
    "arquivo = 'D:\\\\TEMP\\\\cnir\\\\DITR2019.csv'\n",
    "ditr2019 = pd.read_csv(arquivo, dtype={\n",
    "                     'ditr2019.nirf': str,\n",
    "                     'ditr2019.codigoincra': str,\n",
    "                     'ditr2019.ni': str,\n",
    "                     'ditr2019.municipio': str,\n",
    "                     'ditr2019.areatotal': float\n",
    "                 })"
   ]
  },
  {
   "cell_type": "code",
   "execution_count": 26,
   "metadata": {},
   "outputs": [],
   "source": [
    "# Renomeia colunas para o padrão\n",
    "ditr2020.rename(columns={'ditr2020.codigoincra': 'ditr2020.codigoIncra'}, inplace = True)\n",
    "ditr2020.rename(columns={'ditr2020.areatotal': 'ditr2020.areaTotal'}, inplace = True)\n",
    "\n",
    "ditr2019.rename(columns={'ditr2019.codigoincra': 'ditr2019.codigoIncra'}, inplace = True)\n",
    "ditr2020.rename(columns={'ditr2019.areatotal': 'ditr2019.areaTotal'}, inplace = True)\n"
   ]
  },
  {
   "cell_type": "code",
   "execution_count": 29,
   "metadata": {},
   "outputs": [],
   "source": [
    "ditr2020.to_pickle('..\\DADOS\\ditr2020.pickle')\n",
    "ditr2019.to_pickle('..\\DADOS\\ditr2019pickle')"
   ]
  }
 ],
 "metadata": {
  "kernelspec": {
   "display_name": "Python 3",
   "language": "python",
   "name": "python3"
  },
  "language_info": {
   "codemirror_mode": {
    "name": "ipython",
    "version": 3
   },
   "file_extension": ".py",
   "mimetype": "text/x-python",
   "name": "python",
   "nbconvert_exporter": "python",
   "pygments_lexer": "ipython3",
   "version": "3.8.3"
  }
 },
 "nbformat": 4,
 "nbformat_minor": 4
}
